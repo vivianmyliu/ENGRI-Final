{
 "cells": [
  {
   "cell_type": "markdown",
   "id": "23e6742b-9c1b-473a-af2e-40ba90ff883f",
   "metadata": {},
   "source": [
    "# ENGRI 1120: Parallel Cell-free Production and Recovery of the mRNA BNT-162b2 Vaccine"
   ]
  },
  {
   "cell_type": "markdown",
   "id": "61339caf-6c70-4910-a2fe-a295dac93a09",
   "metadata": {},
   "source": [
    "Team #7, Vivian Liu (vl274), Megan Leverock (mrl257), William Manno (wjm252), Francis Pham (fdp25)"
   ]
  },
  {
   "cell_type": "markdown",
   "id": "8c8fcd4e-0156-46f8-b118-80f3032719d4",
   "metadata": {},
   "source": [
    "<img src=\"figs/CHEMEFINAL.png\" style=\"width:100%\">"
   ]
  },
  {
   "cell_type": "markdown",
   "id": "e2d1b90e-e590-4489-a136-16c74f81ccc5",
   "metadata": {},
   "source": [
    "## Introduction\n",
    "\n",
    "The creation of the Covid-19 vaccine was no simple feat especially with the time frame it was developed in. This vaccine is unlike traditional vaccines - while traditional vaccines inject a weakened or dead virus into our bodies, the messenger RNA vaccine injects mRNA into our body and then teaches cells to make a protein that triggers an immune response once someone is infected with COVID-19. Now, Olin Engineering has been contracted to design a system that mass produces a variant of the Covid-19 G-BNT-162b2 mRNA vaccine. Our apparatus uses PURExpress in-vitro expression. PURExpress is a reconstructed protein synthesis system where all necessary components needed for in-vitro are derived from purified E-Coli. The PURExpress will express mRNA molecules needed for the creation of the vaccine. Once synthesized and injected into an individual, the vaccine will stimulate the body’s immune response against the Covid variant. This vaccine will help your body fight off the Covid variant faster, more effectively, and therefore will slow the spread of the virus.\n",
    "\n",
    "Our engineering team decided to arrange reactor chips in a parallel configuration. Although the series configuration requires less chips and works more efficiently, the bounds and the conditions are chip dependent. The parallel configuration is much simpler since the chips are uniform and the environment within each chip is the same. Our system contains two syringe pumps. The first pump that is pumping in stream 1 has a flow rate of 0.0015 L/min and contains G-BNT-162b2 set at a concentration of 2000 μmol/L. The second pump is pumping in stream 2 at a flow rate of  0.045 L/min and contains PURExpress. The PURExpress contained T7 RNA polymerase at a concentration of 100.0 μmol/L and M_atp_c, M_utp_c, M_ctp_c, M_gtp_c all at the same concentration of 100000 μmol/L. These two streams are heated to 37°C through heat exchangers and are then fed into two splitters. The splitters then split the streams into 15 chips where the reaction takes place. Then, from these 15 chips, 15 streams enter into the mixer. After the mixer, the stream enters through another heat exchanger to cool the solution below -25° C and then goes to 7 levels of MSUs working at 95% efficiency producing a 99.76% pure mRNA. \n",
    "\n",
    "The syringe pumps we are using to pump in PURExpress and G-BNT-162b2 cost \\\\$1000 each so we are spending \\\\$2000 in total for our pumps. The cost of PURExpress wass \\\\$0.0095 per μmol. With a volumetric flow rate of 45 mL/min operating for 525,600 minutes a year, the cost of PURExpress came out to be \\\\$224, 694, 000. Our apparatus has three heat exchangers in use, each costing \\\\$75, with a total cost of \\\\$225. The stream splitters, as well as the mixing unit, are free of cost and therefore have no impact on total cost. Our system has a total of 15 chips each costing \\\\$100, producing a total cost of \\\\$1500. Then moving onto our separation unit, we use a linear separation with 7 levels of separation and each MSU costs \\\\$100 giving a total cost of \\\\$700. The total cost of our system for the year is \\\\$37423.54."
   ]
  },
  {
   "cell_type": "markdown",
   "id": "76c3d9a2-9965-4c36-90bd-392230585eca",
   "metadata": {
    "tags": []
   },
   "source": [
    "## Materials and Methods and Assumptions \n",
    "  \n",
    "\n",
    "Well mixed\n",
    "\n",
    "Steady state\n",
    "\n",
    "Open system\n",
    "\n",
    "Ideal atmospheric pressure\n",
    "\n",
    "All reaction cells are isothermal\n",
    "\n",
    "Reaction cells are operating at optimum temperature 37° C\n"
   ]
  },
  {
   "cell_type": "markdown",
   "id": "c992adca-0680-42cc-89d5-74b8d9c659b6",
   "metadata": {
    "tags": []
   },
   "source": [
    "### Project Setup"
   ]
  },
  {
   "cell_type": "code",
   "execution_count": 372,
   "id": "9087f9c8-fc35-4c16-9e4d-bd1ac8f71a2f",
   "metadata": {
    "scrolled": true
   },
   "outputs": [
    {
     "name": "stderr",
     "output_type": "stream",
     "text": [
      "\u001b[32m\u001b[1m  Activating\u001b[22m\u001b[39m project at `c:\\Users\\trime\\Cornell Semester 1\\ENGRI 1120\\ENGRI-Final\\project`\n",
      "\u001b[32m\u001b[1m  No Changes\u001b[22m\u001b[39m to `C:\\Users\\trime\\Cornell Semester 1\\ENGRI 1120\\ENGRI-Final\\project\\Project.toml`\n",
      "\u001b[32m\u001b[1m  No Changes\u001b[22m\u001b[39m to `C:\\Users\\trime\\Cornell Semester 1\\ENGRI 1120\\ENGRI-Final\\project\\Manifest.toml`\n"
     ]
    }
   ],
   "source": [
    "import Pkg; Pkg.activate(\".\"); Pkg.resolve(); Pkg.instantiate();"
   ]
  },
  {
   "cell_type": "code",
   "execution_count": 373,
   "id": "8b6f5e95-6b27-4294-82a1-0d36c8043946",
   "metadata": {},
   "outputs": [],
   "source": [
    "# load reqd packages and set paths -\n",
    "using JLD2\n",
    "using FileIO\n",
    "using PrettyTables\n",
    "using DataFrames\n",
    "using GLPK\n",
    "\n",
    "# setup paths -\n",
    "const _ROOT = pwd();\n",
    "const _PATH_TO_DATA = joinpath(_ROOT, \"data\");"
   ]
  },
  {
   "cell_type": "markdown",
   "id": "d92ba20b-7096-4cb5-9dcf-4375a8abc3b5",
   "metadata": {},
   "source": [
    "#### Load the project code library\n",
    "The call to the `include` function loads the `ENGRI-1120-Project-CodeLib.jl` library into the notebook; the library contains functions we can use during the project. In particular, it includes the function:\n",
    "\n",
    "* The `compute_optimal_extent(stoichiometric_matrix::Array{Float64,2}, default_bounds_array::Array{Float64,2},\n",
    "    species_bounds_array::Array{Float64,2}, objective_coefficient_array::Array{Float64,1}; min_flag::Bool = true) -> Tuple` function calls the [GLPK](https://www.gnu.org/software/glpk/) linear program solver. The `results` tuple contains several things, but the important ones are `calculated_flux_array`, `objective_value`, and the status/exit flags `status_flag` and `exit_flag` (which let us know if the solver successfully found a solution).\n",
    "* The `build(model::Type{MSULatticeModel}; ṅₒ::Float64, L::Int64, u::Float64, d::Float64) -> MSULatticeModel` function builds a [Binary tree](https://en.wikipedia.org/wiki/Binary_tree) of Magical Separation Units (MSUs). Arguments: $ṅₒ$ denotes the species mole flow rate into the separation system, $L$ denotes the number of layers of the tree, $u$ denotes the `up` factor (split for the `up` path), and $d$ denotes the `down` factor (the split for the `down` path). This function returns the `MSULatticeModel` model, which contains the column array `data` holding the species mole flow rate for each node in the tree. \n",
    "* The `build_nodes_dictionary(levels::Int64) -> Dict{Int64,Array{Int64,1}}` function constructs a dictionary of node indexes for each level of the tree; keys are the tree levels."
   ]
  },
  {
   "cell_type": "code",
   "execution_count": 374,
   "id": "643bb3f5-8a44-4d10-8aaf-bac7c94ec962",
   "metadata": {},
   "outputs": [],
   "source": [
    "include(\"ENGRI-1120-Project-CodeLib.jl\");"
   ]
  },
  {
   "cell_type": "code",
   "execution_count": 375,
   "id": "a3090808-15ee-44ba-ac55-2097a7a9f9c5",
   "metadata": {},
   "outputs": [
    {
     "name": "stderr",
     "output_type": "stream",
     "text": [
      "┌ Warning: the following fields are present in type DataFrame saved in the file but not present in the type the workspace:\n",
      "│ \n",
      "│ metadata\n",
      "│ colmetadata\n",
      "│ allnotemetadata,\n",
      "│ \n",
      "│ Data in these fields will not be accessible\n",
      "└ @ JLD2 C:\\Users\\trime\\.julia\\packages\\JLD2\\k9Gt0\\src\\data\\reconstructing_datatypes.jl:196\n"
     ]
    },
    {
     "data": {
      "text/plain": [
       "Dict{String, Any} with 7 entries:\n",
       "  \"stochiometric_matrix\" => [-1.0 0.0 … 0.0 -1.0; -1.0 0.0 … -1.0 0.0; … ; 1.0 …\n",
       "  \"list_of_reactions\"    => [\"TX_BNT_162b2_binding\", \"TX_BNT_162b2_open\", \"BNT_…\n",
       "  \"reaction_table\"       => \u001b[1m6×7 DataFrame\u001b[0m…\n",
       "  \"flux_bounds_array\"    => [-1000.0 1000.0; 0.0 1000.0; … ; 0.0 1000.0; 0.0 10…\n",
       "  \"mRNA_sequence\"        => ['C', 'U', 'C', 'U', 'U', 'A', 'U', 'U', 'U', 'G'  …\n",
       "  \"list_of_species\"      => [\"G_BNT_162b2\", \"T7RNAP\", \"M_atp_c\", \"M_utp_c\", \"M_…\n",
       "  \"gene_sequence\"        => ['G', 'A', 'G', 'A', 'A', 'T', 'A', 'A', 'A', 'C'  …"
      ]
     },
     "metadata": {},
     "output_type": "display_data"
    }
   ],
   "source": [
    "# load the model file -\n",
    "model = load(joinpath(_PATH_TO_DATA, \"ENGRI-1120-BNT162b2-Model.jld2\"))[\"model\"]"
   ]
  },
  {
   "cell_type": "code",
   "execution_count": 376,
   "id": "a5dcb1bf-32c2-449c-ae06-a55f44ec0994",
   "metadata": {},
   "outputs": [],
   "source": [
    "# get stuff from the model data structure -\n",
    "S = model[\"stochiometric_matrix\"]; # fix the spelling in the model file\n",
    "flux_bounds_array = model[\"flux_bounds_array\"];\n",
    "list_of_species = model[\"list_of_species\"];\n",
    "list_of_reactions = model[\"list_of_reactions\"];\n",
    "reaction_table = model[\"reaction_table\"];\n",
    "gene_sequence = model[\"gene_sequence\"];"
   ]
  },
  {
   "cell_type": "code",
   "execution_count": 377,
   "id": "55db9867-ef5f-415f-908a-4f8be8338f4b",
   "metadata": {},
   "outputs": [
    {
     "data": {
      "text/html": [
       "<div class=\"data-frame\"><p>6 rows × 7 columns (omitted printing of 5 columns)</p><table class=\"data-frame\"><thead><tr><th></th><th>id</th><th>forward</th></tr><tr><th></th><th title=\"String\">String</th><th title=\"String\">String</th></tr></thead><tbody><tr><th>1</th><td>TX_BNT_162b2_binding</td><td>G_BNT_162b2+T7RNAP</td></tr><tr><th>2</th><td>TX_BNT_162b2_open</td><td>G_BNT_162b2_T7RNAP_closed</td></tr><tr><th>3</th><td>BNT_162b2_transcription</td><td>G_BNT_162b2_T7RNAP_open+798*M_atp_c+1004*M_utp_c+1060*M_ctp_c+1312*M_gtp_c</td></tr><tr><th>4</th><td>mRNA_BNT_162b2_degradation</td><td>mRNA_BNT_162b2</td></tr><tr><th>5</th><td>RNAP_deactivation</td><td>T7RNAP</td></tr><tr><th>6</th><td>GENE_deactivation</td><td>G_BNT_162b2</td></tr></tbody></table></div>"
      ],
      "text/latex": [
       "\\begin{tabular}{r|ccc}\n",
       "\t& id & forward & \\\\\n",
       "\t\\hline\n",
       "\t& String & String & \\\\\n",
       "\t\\hline\n",
       "\t1 & TX\\_BNT\\_162b2\\_binding & G\\_BNT\\_162b2+T7RNAP & $\\dots$ \\\\\n",
       "\t2 & TX\\_BNT\\_162b2\\_open & G\\_BNT\\_162b2\\_T7RNAP\\_closed & $\\dots$ \\\\\n",
       "\t3 & BNT\\_162b2\\_transcription & G\\_BNT\\_162b2\\_T7RNAP\\_open+798*M\\_atp\\_c+1004*M\\_utp\\_c+1060*M\\_ctp\\_c+1312*M\\_gtp\\_c & $\\dots$ \\\\\n",
       "\t4 & mRNA\\_BNT\\_162b2\\_degradation & mRNA\\_BNT\\_162b2 & $\\dots$ \\\\\n",
       "\t5 & RNAP\\_deactivation & T7RNAP & $\\dots$ \\\\\n",
       "\t6 & GENE\\_deactivation & G\\_BNT\\_162b2 & $\\dots$ \\\\\n",
       "\\end{tabular}\n"
      ],
      "text/plain": [
       "\u001b[1m6×7 DataFrame\u001b[0m\n",
       "\u001b[1m Row \u001b[0m│\u001b[1m id                         \u001b[0m\u001b[1m forward                           \u001b[0m\u001b[1m reverse \u001b[0m ⋯\n",
       "\u001b[1m     \u001b[0m│\u001b[90m String                     \u001b[0m\u001b[90m String                            \u001b[0m\u001b[90m String  \u001b[0m ⋯\n",
       "─────┼──────────────────────────────────────────────────────────────────────────\n",
       "   1 │ TX_BNT_162b2_binding        G_BNT_162b2+T7RNAP                 G_BNT_16 ⋯\n",
       "   2 │ TX_BNT_162b2_open           G_BNT_162b2_T7RNAP_closed          G_BNT_16\n",
       "   3 │ BNT_162b2_transcription     G_BNT_162b2_T7RNAP_open+798*M_at…  mRNA_BNT\n",
       "   4 │ mRNA_BNT_162b2_degradation  mRNA_BNT_162b2                     798*M_am\n",
       "   5 │ RNAP_deactivation           T7RNAP                             T7RNAP_i ⋯\n",
       "   6 │ GENE_deactivation           G_BNT_162b2                        G_BNT_16\n",
       "\u001b[36m                                                               5 columns omitted\u001b[0m"
      ]
     },
     "metadata": {},
     "output_type": "display_data"
    }
   ],
   "source": [
    "reaction_table"
   ]
  },
  {
   "cell_type": "code",
   "execution_count": 378,
   "id": "117417d4-2690-4a3a-8be5-5404e313fc56",
   "metadata": {},
   "outputs": [],
   "source": [
    "# How many species and reactions?\n",
    "(ℳ, ℛ) = size(S);"
   ]
  },
  {
   "cell_type": "code",
   "execution_count": 379,
   "id": "8208533f-04f4-4039-8a7b-44be76fce2d0",
   "metadata": {
    "tags": []
   },
   "outputs": [
    {
     "name": "stdout",
     "output_type": "stream",
     "text": [
      "┌───────┬───────────────────────────┐\n",
      "│\u001b[1m Index \u001b[0m│\u001b[1m                   Species \u001b[0m│\n",
      "├───────┼───────────────────────────┤\n",
      "│     1 │               G_BNT_162b2 │\n",
      "│     2 │                    T7RNAP │\n",
      "│     3 │                   M_atp_c │\n",
      "│     4 │                   M_utp_c │\n",
      "│     5 │                   M_ctp_c │\n",
      "│     6 │                   M_gtp_c │\n",
      "│     7 │            mRNA_BNT_162b2 │\n",
      "│     8 │                   M_ppi_c │\n",
      "│     9 │                   M_amp_c │\n",
      "│    10 │                   M_ump_c │\n",
      "│    11 │                   M_cmp_c │\n",
      "│    12 │                   M_gmp_c │\n",
      "│    13 │           T7RNAP_inactive │\n",
      "│    14 │      G_BNT_162b2_inactive │\n",
      "│    15 │ G_BNT_162b2_T7RNAP_closed │\n",
      "│    16 │   G_BNT_162b2_T7RNAP_open │\n",
      "└───────┴───────────────────────────┘\n"
     ]
    }
   ],
   "source": [
    "# initialize -\n",
    "species_index_table_data = Array{Any,2}(undef, ℳ, 2);\n",
    "\n",
    "# build table -\n",
    "for i ∈ 1:ℳ\n",
    "    species_index_table_data[i,1] = i;\n",
    "    species_index_table_data[i,2] = list_of_species[i];\n",
    "end\n",
    "\n",
    "# setup header -\n",
    "species_index_header_table = ([\"Index\", \"Species\"]);\n",
    "\n",
    "# build table -\n",
    "pretty_table(species_index_table_data; header=species_index_header_table);"
   ]
  },
  {
   "cell_type": "markdown",
   "id": "8f4b9bca-9d21-4f12-88fc-9eec06661610",
   "metadata": {
    "tags": []
   },
   "source": [
    "#### Setup the constants, feed rates and compositions"
   ]
  },
  {
   "cell_type": "code",
   "execution_count": 380,
   "id": "edb099ea-ee49-4e00-ad7c-9a9b2458a706",
   "metadata": {},
   "outputs": [],
   "source": [
    "# how many chips in parallel?\n",
    "number_of_chips = 15;\n",
    "\n",
    "# what fraction of the mRNA degrades?\n",
    "δ = 0.10;\n",
    "\n",
    "# MSU split ratio -\n",
    "θ = 0.95;\n",
    "\n",
    "# Setup constants for transcription -\n",
    "L = length(gene_sequence);\n",
    "K = 0.116; # saturation constant units: μmol/L; Source: ACS Synth. Biol. 2018, 7, 8, 1844–1857 https://doi.org/10.1021/acssynbio.7b00465\n",
    "v̇ₜ = (90.0)*(60); # units: nt/s; Source: BIND: 111871\n",
    "u = 0.95; # u-factor; Source: ACS Synth. Biol. 2018, 7, 8, 1844–1857 https://doi.org/10.1021/acssynbio.7b00465\n",
    "\n",
    "# volume -\n",
    "V = 100.0*(1/1e6); # liquid reaction volume on each chip units: L\n",
    "\n",
    "# Stock solution 1: DNA -> feed into splitter (mux) by pump 1\n",
    "# Composition of the DNA source solution (flows into the chip in stream/channel 1)\n",
    "G_BNT_162b2 = 2000.0;     # gene concentration in stock solution units: μmol/L\n",
    "\n",
    "# Stock solution 2: PURExpress -> feed into splitter (mux) by pump 2\n",
    "# Composition of PURExpress (flows into the chip in stream/channel 2)\n",
    "T7RNAP = 100.0;          # concentration in PURExpress units: μmol/L\n",
    "M_atp_c = 100*(1e6/1e3); # concentration in PURExpress units: μmol/L\n",
    "M_utp_c = 100*(1e6/1e3); # concentration in PURExpress units: μmol/L\n",
    "M_ctp_c = 100*(1e6/1e3); # concentration in PURExpress units: μmol/L\n",
    "M_gtp_c = 100*(1e6/1e3); # concentration in PURExpress units: μmol/L\n",
    "\n",
    "# Volumetric flow rates from the pump *into* the splitter unit - our base case will 1 ml/min into the chips, thus, we need\n",
    "# to scale by the number of chips\n",
    "V̇₁ = number_of_chips*100.0*(1/1e6); # volumetric flow rate of syringe pump 1 (this goes into splitter 1) units: L/min, must equal 300 mL/min or 0.3 L/min at most\n",
    "V̇₂ = number_of_chips*3000.0*(1/1e6); # volumetric flow rate of syringe pump 2 (this goes into splitter 2) units: L/min, must equal 300 mL/min or 0.3 L/min\n",
    "\n",
    "# stuff needed for later -\n",
    "F̂₁ = V̇₁/(V̇₁+V̇₂); # do not change me\n",
    "F̂₂ = V̇₂/(V̇₁+V̇₂); # do not change me\n",
    "\n",
    "# stuff for the tables -\n",
    "current_table_counter = 0; # do not change me"
   ]
  },
  {
   "cell_type": "code",
   "execution_count": 381,
   "id": "c9d2f917",
   "metadata": {},
   "outputs": [
    {
     "data": {
      "text/plain": [
       "0.045"
      ]
     },
     "metadata": {},
     "output_type": "display_data"
    }
   ],
   "source": [
    "V̇₁\n",
    "V̇₂"
   ]
  },
  {
   "cell_type": "markdown",
   "id": "d6eba82f-57dd-47ca-a04e-42ca3e2f5dff",
   "metadata": {
    "tags": []
   },
   "source": [
    "#### Specify the inputs streams"
   ]
  },
  {
   "cell_type": "markdown",
   "id": "779f9f8b-1a29-4fa6-8d65-6f0913563ced",
   "metadata": {},
   "source": [
    "##### a) Specify the composition of feed stream 1\n",
    "By default, this stream contains only the gene encoding the mRNA BNT-162b2 product. The mainstream is split into sub-streams that are fed into each chip."
   ]
  },
  {
   "cell_type": "code",
   "execution_count": 382,
   "id": "3f5f3c3d-f73f-4449-87a2-1c0b365a5539",
   "metadata": {},
   "outputs": [],
   "source": [
    "# setup feed compostions for feed stream 1\n",
    "ṅ₁ = zeros(ℳ); # default is zero, correct specific values -\n",
    "ṅ₁[1] = G_BNT_162b2*V̇₁*(1/number_of_chips); # units: μmol/min"
   ]
  },
  {
   "cell_type": "markdown",
   "id": "bf0ded76-4123-4232-9324-6a3528923c74",
   "metadata": {},
   "source": [
    "##### b) Specify the composition of feed stream 2\n",
    "By default, feed stream 2 contains the [PURExpress](https://www.neb.com/products/e6800-purexpress-invitro-protein-synthesis-kit#Product%20Information), which has everything we need to make our mRNA product of interest _expect_ the linear DNA. The mainstream is split into sub-streams that are fed into each chip."
   ]
  },
  {
   "cell_type": "code",
   "execution_count": 383,
   "id": "816f2506-48bd-4fae-9396-2e6ea91e085e",
   "metadata": {},
   "outputs": [],
   "source": [
    "# setup feed compostions for feed stream 2\n",
    "ṅ₂ = zeros(ℳ); # default is zero, then correct specific values -\n",
    "ṅ₂[2] = T7RNAP*V̇₂*(1/number_of_chips);  # units: μmol/min\n",
    "ṅ₂[3] = M_atp_c*V̇₂*(1/number_of_chips); # units: μmol/min\n",
    "ṅ₂[4] = M_utp_c*V̇₂*(1/number_of_chips); # units: μmol/min\n",
    "ṅ₂[5] = M_ctp_c*V̇₂*(1/number_of_chips); # units: μmol/min\n",
    "ṅ₂[6] = M_gtp_c*V̇₂*(1/number_of_chips); # units: μmol/min"
   ]
  },
  {
   "cell_type": "markdown",
   "id": "eb2540d8-a0b2-467b-94ed-20df1bbc0e57",
   "metadata": {
    "tags": []
   },
   "source": [
    "### Flux balance analysis setup\n",
    "Flux balance analysis is a mathematical model and analysis approach that helps approximate cell-free reaction rates. This helps us estimate flows for different types of networks.To update the default species and flux bounds to model the process, we adjusted values of the volumetric flow rates of PURExpress and BNT-162b2 concentration in either syringe pumps. Modifying the volumetric flow rate of BNT-162b2 changes the GENE concentration. On the other hand, altering the PURExpress volumetric flow rate changes the RNAP concentration. Both of these changes affect the flux bounds, which allows us to model the process. \n"
   ]
  },
  {
   "cell_type": "markdown",
   "id": "a7669082-24c8-4652-acab-31f08d82b207",
   "metadata": {},
   "source": [
    "#### Species bounds"
   ]
  },
  {
   "cell_type": "code",
   "execution_count": 385,
   "id": "954766fb-ec77-48c6-9ed1-3bf4361ef02a",
   "metadata": {},
   "outputs": [],
   "source": [
    "# species bounds array -\n",
    "species_bounds_array = [-(ṅ₁ .+ ṅ₂) 10000.0*ones(ℳ,1)];"
   ]
  },
  {
   "cell_type": "markdown",
   "id": "ed34a6d3-ff56-4651-81d5-5a57d581fa03",
   "metadata": {},
   "source": [
    "#### Reaction bounds"
   ]
  },
  {
   "cell_type": "code",
   "execution_count": 386,
   "id": "b8d99481-c895-48c7-901e-9857415df738",
   "metadata": {},
   "outputs": [],
   "source": [
    "# initialize -\n",
    "flux_bounds_array = zeros(ℛ,2);\n",
    "flux_bounds_array[:,2] .= 1000.0; # large default upper bound\n",
    "\n",
    "# Get the RNAP and GENE concentration -\n",
    "Rₜ = T7RNAP*F̂₂;        # effective RNAP concentratation on the chip for the bounds units: μmol/L\n",
    "GENE = G_BNT_162b2*F̂₁ # effective GENE concentratation on the chip for the bounds units: μmol/L\n",
    "\n",
    "# Setup bounds for transcription -\n",
    "flux_bounds_array[3,:] .= Rₜ*(v̇ₜ/L)*u*(GENE/(K+GENE))*V; # equality constraint\n",
    "\n",
    "# Setup bound for degradation (lower bound)\n",
    "flux_bounds_array[4,1] = δ*flux_bounds_array[3,1];"
   ]
  },
  {
   "cell_type": "code",
   "execution_count": 387,
   "id": "818f4ec9-d726-4165-b2ec-0d813dbf2b87",
   "metadata": {
    "tags": []
   },
   "outputs": [
    {
     "name": "stdout",
     "output_type": "stream",
     "text": [
      "\u001b[1mTable 1: Reaction index-name mapping table.\u001b[0m\n",
      "┌───────┬────────────────────────────┬─────────────┬─────────────┐\n",
      "│\u001b[1m Index \u001b[0m│\u001b[1m                   Reaction \u001b[0m│\u001b[1m lower bound \u001b[0m│\u001b[1m upper bound \u001b[0m│\n",
      "│\u001b[90m       \u001b[0m│\u001b[90m                            \u001b[0m│\u001b[90m    μmol/min \u001b[0m│\u001b[90m    μmol/min \u001b[0m│\n",
      "├───────┼────────────────────────────┼─────────────┼─────────────┤\n",
      "│     1 │       TX_BNT_162b2_binding │         0.0 │      1000.0 │\n",
      "│     2 │          TX_BNT_162b2_open │         0.0 │      1000.0 │\n",
      "│     3 │    BNT_162b2_transcription │   0.0118697 │   0.0118697 │\n",
      "│     4 │ mRNA_BNT_162b2_degradation │  0.00118697 │      1000.0 │\n",
      "│     5 │          RNAP_deactivation │         0.0 │      1000.0 │\n",
      "│     6 │          GENE_deactivation │         0.0 │      1000.0 │\n",
      "└───────┴────────────────────────────┴─────────────┴─────────────┘\n"
     ]
    }
   ],
   "source": [
    "# initialize -\n",
    "reaction_index_table_data = Array{Any,2}(undef, ℛ, 4);\n",
    "\n",
    "# build table -\n",
    "for i ∈ 1:ℛ\n",
    "    reaction_index_table_data[i,1] = i;\n",
    "    reaction_index_table_data[i,2] = list_of_reactions[i];\n",
    "    reaction_index_table_data[i,3] = flux_bounds_array[i,1];\n",
    "    reaction_index_table_data[i,4] = flux_bounds_array[i,2];\n",
    "end\n",
    "\n",
    "# setup title string -\n",
    "reaction_table_title = \"Table $(current_table_counter+=1): Reaction index-name mapping table.\"\n",
    "\n",
    "# setup header -\n",
    "reaction_index_header_table = ([\"Index\", \"Reaction\", \"lower bound\", \"upper bound\"], [\"\", \"\", \"μmol/min\", \"μmol/min\"]);\n",
    "\n",
    "# build table -\n",
    "pretty_table(reaction_index_table_data, title=reaction_table_title; header=reaction_index_header_table);"
   ]
  },
  {
   "cell_type": "markdown",
   "id": "f966f46c-43ff-4476-ba47-341f0ebc3012",
   "metadata": {},
   "source": [
    "#### Objective coefficient array\n",
    "* What is the objective you used?"
   ]
  },
  {
   "cell_type": "code",
   "execution_count": 54,
   "id": "0bb000a0-1e21-4a67-ba7b-04e67221fbb3",
   "metadata": {},
   "outputs": [
    {
     "data": {
      "text/plain": [
       "6-element Vector{Float64}:\n",
       "  0.0\n",
       "  0.0\n",
       " -1.0\n",
       "  0.0\n",
       "  0.0\n",
       "  0.0"
      ]
     },
     "metadata": {},
     "output_type": "display_data"
    }
   ],
   "source": [
    "# setup the objective coefficient array -\n",
    "obj_vector = zeros(ℛ);\n",
    "obj_vector[3] = -1; # why negative?\n",
    "obj_vector"
   ]
  },
  {
   "cell_type": "markdown",
   "id": "4faa535b-6df1-4931-b033-0d4e0a165d90",
   "metadata": {
    "tags": []
   },
   "source": [
    "## Results and Discussion "
   ]
  },
  {
   "cell_type": "markdown",
   "id": "d7d1ae72-a727-496a-a2c7-c54fd9c0f1b2",
   "metadata": {
    "tags": []
   },
   "source": [
    "### Compute the optimal extent of reaction and exit stream composition per chip"
   ]
  },
  {
   "cell_type": "code",
   "execution_count": 389,
   "id": "76ee9bc7-4724-40b8-9685-90363ac19e0f",
   "metadata": {
    "tags": []
   },
   "outputs": [],
   "source": [
    "# compute the optimal flux, and then estimate the output on the chip\n",
    "result = compute_optimal_extent(S, flux_bounds_array, species_bounds_array, obj_vector);\n",
    "\n",
    "# build a system stream table -\n",
    "ϵ̇ = result.calculated_flux_array;\n",
    "\n",
    "# compute the output -\n",
    "ṅ₃ = (ṅ₁ + ṅ₂) + S*ϵ̇;\n",
    "\n",
    "# compute the Δ reaction -\n",
    "Δ = S*ϵ̇;\n",
    "\n",
    "# get the exit and status flags to make sure all is ok\n",
    "exit_flag = result.exit_flag;\n",
    "status_flag = result.status_flag;"
   ]
  },
  {
   "cell_type": "code",
   "execution_count": 390,
   "id": "aae47456-162f-462b-b7ec-3f264789c815",
   "metadata": {
    "scrolled": true,
    "tags": []
   },
   "outputs": [
    {
     "name": "stdout",
     "output_type": "stream",
     "text": [
      "\u001b[1mTable 2: Single chip species mole flow rates table; Streams 1 and 2 are inputs, stream 3 is the chip output. \n",
      "The solver returned the exit flag = 0 and status_flag = 5\u001b[0m\n",
      "┌───────────────────────────┬─────────┬────────────┬────────────┬────────────┬────────────┐\n",
      "│\u001b[1m                   Species \u001b[0m│\u001b[1m index i \u001b[0m│\u001b[1m       ṅ₁,ᵢ \u001b[0m│\u001b[1m       ṅ₂,ᵢ \u001b[0m│\u001b[1m       ṅ₃,ᵢ \u001b[0m│\u001b[1m          Δ \u001b[0m│\n",
      "│\u001b[90m                           \u001b[0m│\u001b[90m         \u001b[0m│\u001b[90m (μmol/min) \u001b[0m│\u001b[90m (μmol/min) \u001b[0m│\u001b[90m (μmol/min) \u001b[0m│\u001b[90m (μmol/min) \u001b[0m│\n",
      "├───────────────────────────┼─────────┼────────────┼────────────┼────────────┼────────────┤\n",
      "│               G_BNT_162b2 │       1 │        0.2 │        0.0 │        0.2 │        0.0 │\n",
      "│                    T7RNAP │       2 │        0.0 │        0.3 │        0.3 │        0.0 │\n",
      "│                   M_atp_c │       3 │        0.0 │      300.0 │    290.528 │     -9.472 │\n",
      "│                   M_utp_c │       4 │        0.0 │      300.0 │    288.083 │    -11.917 │\n",
      "│                   M_ctp_c │       5 │        0.0 │      300.0 │    287.418 │    -12.582 │\n",
      "│                   M_gtp_c │       6 │        0.0 │      300.0 │    284.427 │    -15.573 │\n",
      "│            mRNA_BNT_162b2 │       7 │        0.0 │        0.0 │      0.011 │      0.011 │\n",
      "│                   M_ppi_c │       8 │        0.0 │        0.0 │     49.544 │     49.544 │\n",
      "│                   M_amp_c │       9 │        0.0 │        0.0 │      0.947 │      0.947 │\n",
      "│                   M_ump_c │      10 │        0.0 │        0.0 │      1.192 │      1.192 │\n",
      "│                   M_cmp_c │      11 │        0.0 │        0.0 │      1.258 │      1.258 │\n",
      "│                   M_gmp_c │      12 │        0.0 │        0.0 │      1.557 │      1.557 │\n",
      "│           T7RNAP_inactive │      13 │        0.0 │        0.0 │        0.0 │        0.0 │\n",
      "│      G_BNT_162b2_inactive │      14 │        0.0 │        0.0 │        0.0 │        0.0 │\n",
      "│ G_BNT_162b2_T7RNAP_closed │      15 │        0.0 │        0.0 │        0.0 │        0.0 │\n",
      "│   G_BNT_162b2_T7RNAP_open │      16 │        0.0 │        0.0 │        0.0 │        0.0 │\n",
      "└───────────────────────────┴─────────┴────────────┴────────────┴────────────┴────────────┘\n"
     ]
    }
   ],
   "source": [
    "system_flux_table_data = Array{Any,2}(undef, ℳ, 6);\n",
    "\n",
    "# populate the table -\n",
    "for i ∈ 1:ℳ\n",
    "    system_flux_table_data[i,1] = list_of_species[i];\n",
    "    system_flux_table_data[i,2] = i;\n",
    "    system_flux_table_data[i,3] = ṅ₁[i];\n",
    "    system_flux_table_data[i,4] = ṅ₂[i];\n",
    "    system_flux_table_data[i,5] = round(ṅ₃[i], digits=3);\n",
    "    system_flux_table_data[i,6] = round(Δ[i], digits=3);\n",
    "end\n",
    "\n",
    "# title -\n",
    "species_mft_table_title = \"Table $(current_table_counter+=1): Single chip species mole flow rates table; Streams 1 and 2 are inputs, stream 3 is the chip output. \n",
    "The solver returned the exit flag = $(exit_flag) and status_flag = $(status_flag)\"\n",
    "\n",
    "# header -\n",
    "state_table_header = (\n",
    "    [\"Species\", \"index i\", \"ṅ₁,ᵢ\", \"ṅ₂,ᵢ\", \"ṅ₃,ᵢ\", \"Δ\"], \n",
    "    [\"\",\"\",\"(μmol/min)\", \"(μmol/min)\", \"(μmol/min)\", \"(μmol/min)\"]\n",
    ");\n",
    "\n",
    "# show -\n",
    "pretty_table(system_flux_table_data, title=species_mft_table_title; header = state_table_header)"
   ]
  },
  {
   "cell_type": "markdown",
   "id": "e87e7984-92b8-426d-a0b0-56126f75bc1c",
   "metadata": {},
   "source": [
    "### Design a downstream seperation using Magical Seperator Units (MSU)"
   ]
  },
  {
   "cell_type": "code",
   "execution_count": 391,
   "id": "182cd067-ea09-464b-8aed-2f560622864a",
   "metadata": {},
   "outputs": [],
   "source": [
    "# build a downstream seperation process with this number of levels:\n",
    "number_of_levels = 7; # includes zero"
   ]
  },
  {
   "cell_type": "code",
   "execution_count": 392,
   "id": "f5456b44-0f35-4d9f-b0df-85afc56ecc74",
   "metadata": {
    "tags": []
   },
   "outputs": [
    {
     "name": "stdout",
     "output_type": "stream",
     "text": [
      "\u001b[1mTable 3: Magical Seperator Unit (MSU) flow table; N0 denotes the feed while N⋆ denotes the leaves of the tree.\u001b[0m\n",
      "┌───────────────────────────┬─────────┬──────────┬────────────┬─────────────┬─────────────┬─────────────┬───────────┬────────────┬────────────┐\n",
      "│\u001b[1m                   Species \u001b[0m│\u001b[1m index i \u001b[0m│\u001b[1m       N0 \u001b[0m│\u001b[1m        N22 \u001b[0m│\u001b[1m         N23 \u001b[0m│\u001b[1m         N24 \u001b[0m│\u001b[1m         N25 \u001b[0m│\u001b[1m       N26 \u001b[0m│\u001b[1m        N27 \u001b[0m│\u001b[1m        N28 \u001b[0m│\n",
      "│\u001b[90m                           \u001b[0m│\u001b[90m         \u001b[0m│\u001b[90m μmol/min \u001b[0m│\u001b[90m   μmol/min \u001b[0m│\u001b[90m    μmol/min \u001b[0m│\u001b[90m    μmol/min \u001b[0m│\u001b[90m    μmol/min \u001b[0m│\u001b[90m  μmol/min \u001b[0m│\u001b[90m   μmol/min \u001b[0m│\u001b[90m   μmol/min \u001b[0m│\n",
      "├───────────────────────────┼─────────┼──────────┼────────────┼─────────────┼─────────────┼─────────────┼───────────┼────────────┼────────────┤\n",
      "│               G_BNT_162b2 │       1 │      3.0 │  4.6875e-8 │  8.90625e-7 │  1.69219e-5 │ 0.000321516 │ 0.0061088 │   0.116067 │    2.20528 │\n",
      "│                    T7RNAP │       2 │      4.5 │ 7.03125e-8 │  1.33594e-6 │  2.53828e-5 │ 0.000482273 │ 0.0091632 │   0.174101 │    3.30791 │\n",
      "│                   M_atp_c │       3 │  4357.92 │ 6.80925e-5 │  0.00129376 │   0.0245814 │    0.467046 │   8.87388 │    168.604 │    3203.47 │\n",
      "│                   M_utp_c │       4 │  4321.24 │ 6.75194e-5 │  0.00128287 │   0.0243745 │    0.463116 │    8.7992 │    167.185 │    3176.51 │\n",
      "│                   M_ctp_c │       5 │  4311.27 │ 6.73636e-5 │  0.00127991 │   0.0243183 │    0.462047 │   8.77889 │    166.799 │    3169.18 │\n",
      "│                   M_gtp_c │       6 │   4266.4 │ 6.66626e-5 │  0.00126659 │   0.0240652 │    0.457239 │   8.68753 │    165.063 │     3136.2 │\n",
      "│            mRNA_BNT_162b2 │       7 │ 0.160241 │   0.117792 │  0.00619958 │ 0.000326294 │  1.71733e-5 │ 9.0386e-7 │ 4.75716e-8 │ 2.50377e-9 │\n",
      "│                   M_ppi_c │       8 │  743.163 │ 1.16119e-5 │ 0.000220626 │   0.0041919 │   0.0796462 │   1.51328 │    28.7523 │    546.293 │\n",
      "│                   M_amp_c │       9 │   14.208 │ 2.22001e-7 │  4.21801e-6 │  8.01423e-5 │   0.0015227 │ 0.0289314 │   0.549696 │    10.4442 │\n",
      "│                   M_ump_c │      10 │  17.8758 │ 2.79309e-7 │  5.30688e-6 │ 0.000100831 │  0.00191578 │ 0.0363999 │   0.691597 │    13.1403 │\n",
      "│                   M_cmp_c │      11 │  18.8728 │ 2.94888e-7 │  5.60288e-6 │ 0.000106455 │  0.00202264 │ 0.0384301 │   0.730172 │    13.8733 │\n",
      "│                   M_gmp_c │      12 │  23.3596 │ 3.64994e-7 │  6.93488e-6 │ 0.000131763 │  0.00250349 │ 0.0475663 │   0.903761 │    17.1715 │\n",
      "│           T7RNAP_inactive │      13 │      0.0 │        0.0 │         0.0 │         0.0 │         0.0 │       0.0 │        0.0 │        0.0 │\n",
      "│      G_BNT_162b2_inactive │      14 │      0.0 │        0.0 │         0.0 │         0.0 │         0.0 │       0.0 │        0.0 │        0.0 │\n",
      "│ G_BNT_162b2_T7RNAP_closed │      15 │      0.0 │        0.0 │         0.0 │         0.0 │         0.0 │       0.0 │        0.0 │        0.0 │\n",
      "│   G_BNT_162b2_T7RNAP_open │      16 │      0.0 │        0.0 │         0.0 │         0.0 │         0.0 │       0.0 │        0.0 │        0.0 │\n",
      "└───────────────────────────┴─────────┴──────────┴────────────┴─────────────┴─────────────┴─────────────┴───────────┴────────────┴────────────┘\n"
     ]
    }
   ],
   "source": [
    "# initialize -\n",
    "tmp_storage_dict = Dict{Int64, MSULatticeModel}();\n",
    "\n",
    "# is_product_vector -\n",
    "is_product_vector = zeros(ℳ);\n",
    "is_product_vector[7] = 1;\n",
    "\n",
    "# compute the composition array -\n",
    "for i ∈ 1:ℳ\n",
    "\n",
    "    if (is_product_vector[i] == 1)\n",
    "        msu_lattice_model = build(MSULatticeModel; ṅₒ = (number_of_chips)*ṅ₃[i], L = number_of_levels , u = θ, d = (1 - θ));\n",
    "    else\n",
    "        msu_lattice_model = build(MSULatticeModel; ṅₒ = (number_of_chips)*ṅ₃[i], L = number_of_levels , u = (1 - θ), d = θ);\n",
    "    end\n",
    "    \n",
    "    # grab -\n",
    "    tmp_storage_dict[i] = msu_lattice_model;\n",
    "end\n",
    "\n",
    "# grab the leaves -\n",
    "nodes_dict = build_nodes_dictionary(number_of_levels);\n",
    "children_dict = build_children_dictionary(nodes_dict);\n",
    "tree_leaves = nodes_dict[number_of_levels-1];\n",
    "\n",
    "# build a composition array -\n",
    "number_of_nodes = length(tree_leaves);\n",
    "composition_array = Array{Float64,2}(undef, number_of_nodes, ℳ);\n",
    "for i ∈ 1:ℳ\n",
    "    data = tmp_storage_dict[i].data;\n",
    "    for j ∈ 1:number_of_nodes\n",
    "        composition_array[j,i] = data[tree_leaves[j]]\n",
    "    end\n",
    "end\n",
    "\n",
    "# make a pretty table and show the leaves of the tree -\n",
    "\n",
    "# initialize -\n",
    "sep_tree_flow_table_data = Array{Any,2}(undef, ℳ, length(tree_leaves) + 3)\n",
    "for i ∈ 1:ℳ\n",
    "    sep_tree_flow_table_data[i,1] = list_of_species[i];\n",
    "    sep_tree_flow_table_data[i,2] = i;\n",
    "    sep_tree_flow_table_data[i,3] = (number_of_chips)*ṅ₃[i] # put node 0 in table -\n",
    "        \n",
    "    for j ∈ 1:length(tree_leaves)\n",
    "        sep_tree_flow_table_data[i,3+j] = composition_array[j,i]\n",
    "    end\n",
    "end\n",
    "\n",
    "# labels row -\n",
    "label_row = Array{String,1}();\n",
    "push!(label_row,\"Species\");\n",
    "push!(label_row,\"index i\")\n",
    "push!(label_row,\"N0\")\n",
    "for j ∈ 1:length(tree_leaves)\n",
    "    push!(label_row, \"N$(tree_leaves[j])\");\n",
    "end\n",
    "\n",
    "# units row -\n",
    "units_row = Array{String,1}();\n",
    "push!(units_row, \"\");\n",
    "push!(units_row, \"\");\n",
    "for j ∈ 1:length(tree_leaves)+1\n",
    "    push!(units_row, \"μmol/min\");\n",
    "end\n",
    "\n",
    "# header -\n",
    "sep_tree_flow_table_header = (label_row, units_row);\n",
    "\n",
    "# set title -\n",
    "title = \"Table $(current_table_counter+=1): Magical Seperator Unit (MSU) flow table; N0 denotes the feed while N⋆ denotes the leaves of the tree.\"\n",
    "\n",
    "# show -\n",
    "pretty_table(sep_tree_flow_table_data, title=title; header=sep_tree_flow_table_header)"
   ]
  },
  {
   "cell_type": "code",
   "execution_count": 393,
   "id": "3a8b3f45-6f00-4201-9418-407810432f4c",
   "metadata": {
    "tags": []
   },
   "outputs": [
    {
     "name": "stdout",
     "output_type": "stream",
     "text": [
      "\u001b[1mTable 4: Magical Seperator Unit (MSU) composition table.\u001b[0m\n",
      "┌───────────────────────────┬─────────┬───────────┬───────────┬───────────┬───────────┬───────────┬───────────┬───────────┬───────────┐\n",
      "│\u001b[1m                   Species \u001b[0m│\u001b[1m index i \u001b[0m│\u001b[1m        N0 \u001b[0m│\u001b[1m       N22 \u001b[0m│\u001b[1m       N23 \u001b[0m│\u001b[1m       N24 \u001b[0m│\u001b[1m       N25 \u001b[0m│\u001b[1m       N26 \u001b[0m│\u001b[1m       N27 \u001b[0m│\u001b[1m       N28 \u001b[0m│\n",
      "│\u001b[90m                           \u001b[0m│\u001b[90m         \u001b[0m│\u001b[90m mole frac \u001b[0m│\u001b[90m mole frac \u001b[0m│\u001b[90m mole frac \u001b[0m│\u001b[90m mole frac \u001b[0m│\u001b[90m mole frac \u001b[0m│\u001b[90m mole frac \u001b[0m│\u001b[90m mole frac \u001b[0m│\u001b[90m mole frac \u001b[0m│\n",
      "├───────────────────────────┼─────────┼───────────┼───────────┼───────────┼───────────┼───────────┼───────────┼───────────┼───────────┤\n",
      "│               G_BNT_162b2 │       1 │    0.0002 │       0.0 │    0.0001 │    0.0002 │    0.0002 │    0.0002 │    0.0002 │    0.0002 │\n",
      "│                    T7RNAP │       2 │    0.0002 │       0.0 │    0.0001 │    0.0002 │    0.0002 │    0.0002 │    0.0002 │    0.0002 │\n",
      "│                   M_atp_c │       3 │     0.241 │    0.0006 │    0.1118 │    0.2402 │     0.241 │     0.241 │     0.241 │     0.241 │\n",
      "│                   M_utp_c │       4 │     0.239 │    0.0006 │    0.1109 │    0.2382 │     0.239 │     0.239 │     0.239 │     0.239 │\n",
      "│                   M_ctp_c │       5 │    0.2384 │    0.0006 │    0.1106 │    0.2377 │    0.2384 │    0.2384 │    0.2384 │    0.2384 │\n",
      "│                   M_gtp_c │       6 │    0.2359 │    0.0006 │    0.1095 │    0.2352 │    0.2359 │    0.2359 │    0.2359 │    0.2359 │\n",
      "│            mRNA_BNT_162b2 │       7 │       0.0 │    0.9976 │    0.5359 │    0.0032 │       0.0 │       0.0 │       0.0 │       0.0 │\n",
      "│                   M_ppi_c │       8 │    0.0411 │    0.0001 │    0.0191 │     0.041 │    0.0411 │    0.0411 │    0.0411 │    0.0411 │\n",
      "│                   M_amp_c │       9 │    0.0008 │       0.0 │    0.0004 │    0.0008 │    0.0008 │    0.0008 │    0.0008 │    0.0008 │\n",
      "│                   M_ump_c │      10 │     0.001 │       0.0 │    0.0005 │     0.001 │     0.001 │     0.001 │     0.001 │     0.001 │\n",
      "│                   M_cmp_c │      11 │     0.001 │       0.0 │    0.0005 │     0.001 │     0.001 │     0.001 │     0.001 │     0.001 │\n",
      "│                   M_gmp_c │      12 │    0.0013 │       0.0 │    0.0006 │    0.0013 │    0.0013 │    0.0013 │    0.0013 │    0.0013 │\n",
      "│           T7RNAP_inactive │      13 │       0.0 │       0.0 │       0.0 │       0.0 │       0.0 │       0.0 │       0.0 │       0.0 │\n",
      "│      G_BNT_162b2_inactive │      14 │       0.0 │       0.0 │       0.0 │       0.0 │       0.0 │       0.0 │       0.0 │       0.0 │\n",
      "│ G_BNT_162b2_T7RNAP_closed │      15 │       0.0 │       0.0 │       0.0 │       0.0 │       0.0 │       0.0 │       0.0 │       0.0 │\n",
      "│   G_BNT_162b2_T7RNAP_open │      16 │       0.0 │       0.0 │       0.0 │       0.0 │       0.0 │       0.0 │       0.0 │       0.0 │\n",
      "└───────────────────────────┴─────────┴───────────┴───────────┴───────────┴───────────┴───────────┴───────────┴───────────┴───────────┘\n"
     ]
    }
   ],
   "source": [
    "# build mol frac composition table -\n",
    "\n",
    "# construct mol frac array -\n",
    "mol_frac_array = Array{Float64,2}(undef, ℳ, length(tree_leaves)+1);\n",
    "\n",
    "# node 0 -\n",
    "ṅ₃_total = sum(ṅ₃);\n",
    "for i ∈ 1:ℳ\n",
    "    mol_frac_array[i,1] = ṅ₃[i]*(1/ṅ₃_total);    \n",
    "end\n",
    "\n",
    "# get the sums along rows -\n",
    "ṅ_total = sum(composition_array,dims = 2);\n",
    "for node ∈ 1:length(tree_leaves)\n",
    "    for i ∈ 1:ℳ\n",
    "        mol_frac_array[i,node+1] = composition_array[node,i]*(1/ṅ_total[node]);\n",
    "    end\n",
    "end\n",
    "\n",
    "# initialize -\n",
    "sep_tree_mol_frac_table_data = Array{Any,2}(undef, ℳ, length(tree_leaves) + 3)\n",
    "for i ∈ 1:ℳ\n",
    "    sep_tree_mol_frac_table_data[i,1] = list_of_species[i];\n",
    "    sep_tree_mol_frac_table_data[i,2] = i;\n",
    "    sep_tree_mol_frac_table_data[i,3] = round(mol_frac_array[i,1], digits=4) # put node 0 in table -\n",
    "        \n",
    "    for j ∈ 1:length(tree_leaves)\n",
    "        sep_tree_mol_frac_table_data[i, 3+j] = round(mol_frac_array[i,j+1], digits=4)\n",
    "    end\n",
    "end\n",
    "\n",
    "# labels row -\n",
    "label_mft_row = Array{String,1}();\n",
    "push!(label_mft_row,\"Species\");\n",
    "push!(label_mft_row,\"index i\")\n",
    "push!(label_mft_row,\"N0\")\n",
    "for j ∈ 1:length(tree_leaves)\n",
    "    push!(label_mft_row, \"N$(tree_leaves[j])\");\n",
    "end\n",
    "\n",
    "# units row -\n",
    "units_mft_row = Array{String,1}();\n",
    "push!(units_mft_row, \"\");\n",
    "push!(units_mft_row, \"\");\n",
    "for j ∈ 1:length(tree_leaves)+1\n",
    "    push!(units_mft_row, \"mole frac\");\n",
    "end\n",
    "\n",
    "# header -\n",
    "sep_tree_mft_table_header = (label_mft_row, units_mft_row);\n",
    "\n",
    "# set title -\n",
    "title_mft = \"Table $(current_table_counter+=1): Magical Seperator Unit (MSU) composition table.\"\n",
    "\n",
    "# show -\n",
    "pretty_table(sep_tree_mol_frac_table_data, title=title_mft; header=sep_tree_mft_table_header)"
   ]
  },
  {
   "cell_type": "markdown",
   "id": "1c6fe5c9-bbbf-4e7b-865b-f04a967a9997",
   "metadata": {},
   "source": [
    "### Financial Analysis\n",
    "\n",
    "If we ran the system for 1 year, we would have to sell our mRNA product at \\\\$37423.54. After 5 years, we would have to sell our mRNA at roughly \\\\$6895.50 each year. If we ran the system for 10 years, we would have to sell the mRNA at \\\\$6205.12 each year for the NPV to equal zero. \n",
    "\n",
    "To improve the financial performance of our design, we could reduce the magnitude of the volumetric flow rates and slightly increase the number of chips that we are using. Another way to reduce costs is to utilize a series configuration instead of a parallel configuration. Alternatively, we could use a binary separation system in order to recycle PURExpress, which is further explored into in the summary and conclusions section."
   ]
  },
  {
   "cell_type": "markdown",
   "id": "ec3d7516",
   "metadata": {},
   "source": [
    "$$cost_{stream2} = 45000 * 525000 * 0.0095 = 224,694,000$$\n",
    "$$CF_0 = -(15*100 + 2*1000 + 7*100 + 3*75 + cost_{stream2}) = -224,698,425$$\n",
    "$$\\text{number of moles} = m = 0.011 * 525600 * 0.9976 = 5767.72$$\n",
    "$$D_{i}^{-1} = (1+.041)^i$$\n",
    "\n",
    "1 Year: \n",
    "$$CF_1 = -\\frac{CF_0}{D_1^{-1}m} = -\\frac{-224,698,425}{(1.041)*5767.72} = 37423.54$$\n",
    "\n",
    "5 Years:\n",
    "$$CF_5 = -(15*100 + 2*1000 + 7*100 + 3*75 + 5cost_{stream2}) = -1.123 * 10^9$$\n",
    "$$P_5 = -\\frac{CF_5}{m\\sum_{i=1}^{10}D_i^{-1}} = -\\frac{CF_5}{5m\\sum_{n=1}^{5}{1.041^n}} = 6895.50$$\n",
    "\n",
    "10 Years:\n",
    "$$CF_{10} =  -(15*100 + 2*1000 + 7*100 + 3*75 + 10cost_{stream2}) = -2.247 * 10^9$$\n",
    "$$P_{10} = -\\frac{CF_{10}}{m\\sum_{i=1}^{10}D_i^{-1}} = -\\frac{CF_{10}}{5m\\sum_{n=1}^{10}{1.041^n}} = 6205.12$$"
   ]
  },
  {
   "cell_type": "markdown",
   "id": "9b5013d4-e85f-4d8c-9da3-b32e8d79c50d",
   "metadata": {},
   "source": [
    "## Summary and Conclusions\n",
    "   The method we used in order to produce 99% pure mRNA was trial and error. We would change a single variable, and then we would run the code to see how the output of mRNA was affected. Variables that we experimented with were the number of levels of separations for the MSUs, the efficiency of the MSU, and the volumetric flow rates of the two syringe pumps in order to see how everything was affected and what would produce the most mRNA. Once we discovered the optimal numbers for each of our variables, we scaled up our number chips to 15 so we hit our target production of 0.1 μmol/min with 99% purity. Once we achieved this goal, we further experimented to see how to best cut our cost. We did this by changing the efficiency of the MSUs and seeing if we still had a 99% pure mRNA product. If we didn’t, we would increase the level of splits and until we reached 99% purity and took into account whether or not it was cheaper. Our original system used an extremely high flow rate of 0.300 L/min for syringe pump 2, which was the maximum flow rate that our syringe pump could go. This exceedingly large flow rate uses a significantly greater amount of PURExpress, which happens to be our greatest expenditure. Thus, our project team was able to find a way to greatly decrease our flow rate to 0.045 L/min by increasing the number of reactors we have. While we originally had 8 levels of separation, we attempted to see if we could save costs by dropping the number of levels to 7 and found that we were able to maintain a purity above 99% with an increase in reactors. Other ways to try and improve costs would be to use a series configuration in our project instead of a parallel configuration because a series configuration requires less reactors, which would save hundreds of dollars in cost. Although our system uses a linear separation of MSU’s in order to save costs, another way to save costs would be to arrange the MSUs in a binary separation tree and recycle the bottom-most stream of nearly pure PURExpress, pass it through a heat exchanger, then bring the PURExpress back up to combine with stream 2. Our system produces 0.11 μmol/min of mRNA with 99.76% purity and is certainly a reasonable solution to be able to mass produce the Covid-19 vaccine. However, it could be more optimized in certain ways so that it is more cost effective and still produces the same amount of mRNA at the right purity. The volumetric flow rate could be decreased even more and the number of reactors increased again so we are not over using PURExpress. We could also optimize the reaction by lowering the efficiency of the MSUs to 90% and increasing the levels of splits since the cost of the MSUs with 90% efficiency is ⅕ of the price of MSUs with 95% efficiency. Therefore, there is potential to curb cost even further. \n"
   ]
  },
  {
   "cell_type": "markdown",
   "id": "0ce74f58-3061-4901-b988-0beb2980a20c",
   "metadata": {},
   "source": [
    "## References and Additional Resources\n",
    "* Put any references or additional citations here"
   ]
  },
  {
   "cell_type": "markdown",
   "id": "598f9de5",
   "metadata": {},
   "source": [
    "Immunization Basics | CDC. [www.cdc.gov/vaccines/vac-gen/imz-basics.html](www.cdc.gov/vaccines/vac-gen/imz-basics.html)\n",
    "\n",
    "New England Biolabs. PURExpress® in Vitro Protein Synthesis Kit | NEB. [www.neb.com/products/e6800-purexpress-invitro-protein-synthesis-kit](www.neb.com/products/e6800-purexpress-invitro-protein-synthesis-kit).\n",
    "\n",
    "Office of Infectious Disease and HIV/AIDS Policy (OIDP). “Vaccines Protect You.” HHS.gov, 6 May 2022, [www.hhs.gov/immunization/basics/work/prevention/index.html](www.hhs.gov/immunization/basics/work/prevention/index.html).\n",
    "\n",
    "“What’s Different About Messenger RNA (mRNA) Vaccines for COVID-19?” Memorial Sloan Kettering Cancer Center, [www.mskcc.org/coronavirus/what-s-different-about-messenger-rna-vaccines-covid-19](www.mskcc.org/coronavirus/what-s-different-about-messenger-rna-vaccines-covid-19)."
   ]
  },
  {
   "cell_type": "markdown",
   "id": "5fd69046",
   "metadata": {},
   "source": []
  }
 ],
 "metadata": {
  "kernelspec": {
   "display_name": "Julia 1.8.0",
   "language": "julia",
   "name": "julia-1.8"
  },
  "language_info": {
   "file_extension": ".jl",
   "mimetype": "application/julia",
   "name": "julia",
   "version": "1.8.0"
  }
 },
 "nbformat": 4,
 "nbformat_minor": 5
}
